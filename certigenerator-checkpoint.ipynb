import numpy as np
import cv2
import matplotlib.pyplot as plt
%matplotlib inline
import xlrd

file=xlrd.open_workbook('C:/Users/lenovo/Documents/file1.xlsx')
w_sheet= file.sheet_by_name("Sheet1")
event=input("Enter the Name of the Workshop")
date=input("Enter the date at which workshop was conducted in (dd/mm/yyyy) format")
place=input("Enter the place where workshop was conducted")

cnt=0
lst_x=[]
lst_y=[]

lst_x.clear()
lst_y.clear()
#############
##FUNCTION###
#############
def find_cord(event,x,y,flags,param):
    global cnt
    if event==cv2.EVENT_LBUTTONDOWN:
        lst_x.append(x)
        lst_y.append(y)
        cnt=cnt+1
        
cv2.namedWindow('certi_generator')
cv2.setMouseCallback('certi_generator',find_cord)

img=cv2.imread('C:/Users/lenovo/Desktop/certi3.jpg')
img=cv2.cvtColor(img,cv2.COLOR_BGR2RGB)

while True:
    cv2.imshow('certi_generator',img)
    if cnt==4:
        break
    if cv2.waitKey(10) & 0xFF ==27:
        break
cv2.destroyAllWindows()
    
for i in range(1,w_sheet.nrows):
    img=cv2.imread('C:/Users/lenovo/Desktop/certi3.jpg')
    img=cv2.cvtColor(img,cv2.COLOR_BGR2RGB)
    
    txt=w_sheet.cell(i,0).value
    font= cv2.FONT_HERSHEY_SIMPLEX
    cv2.putText(img,txt,(lst_x[0],lst_y[0]),font,0.5,(255,0,0),1,cv2.LINE_AA)
    cv2.putText(img,event,(lst_x[1],lst_y[1]),font,0.5,(255,0,0),1,cv2.LINE_AA)
    cv2.putText(img,date,(lst_x[2],lst_y[2]),font,0.5,(255,0,0),1,cv2.LINE_AA)
    cv2.putText(img,place,(lst_x[3],lst_y[3]),font,0.5,(255,0,0),1,cv2.LINE_AA)
    
    cv2.imwrite('visio'+str(i)+'.jpg',img)
