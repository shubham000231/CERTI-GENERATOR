{
 "cells": [
  {
   "cell_type": "code",
   "execution_count": 6,
   "metadata": {},
   "outputs": [
    {
     "name": "stdin",
     "output_type": "stream",
     "text": [
      "Enter the Name of the Workshop C workshop\n",
      "Enter the date at which workshop was conducted in (dd/mm/yyyy) format 08/12/2019\n",
      "Enter the place where workshop was conducted BHOPAL\n"
     ]
    }
   ],
   "source": [
    "import numpy as np\n",
    "import cv2\n",
    "import matplotlib.pyplot as plt\n",
    "%matplotlib inline\n",
    "import xlrd\n",
    "\n",
    "file=xlrd.open_workbook('C:/Users/lenovo/Documents/file1.xlsx')\n",
    "w_sheet= file.sheet_by_name(\"Sheet1\")\n",
    "event=input(\"Enter the Name of the Workshop\")\n",
    "date=input(\"Enter the date at which workshop was conducted in (dd/mm/yyyy) format\")\n",
    "place=input(\"Enter the place where workshop was conducted\")\n",
    "\n",
    "cnt=0\n",
    "lst_x=[]\n",
    "lst_y=[]\n",
    "\n",
    "lst_x.clear()\n",
    "lst_y.clear()\n",
    "#############\n",
    "##FUNCTION###\n",
    "#############\n",
    "def find_cord(event,x,y,flags,param):\n",
    "    global cnt\n",
    "    if event==cv2.EVENT_LBUTTONDOWN:\n",
    "        lst_x.append(x)\n",
    "        lst_y.append(y)\n",
    "        cnt=cnt+1\n",
    "        \n",
    "cv2.namedWindow('certi_generator')\n",
    "cv2.setMouseCallback('certi_generator',find_cord)\n",
    "\n",
    "img=cv2.imread('C:/Users/lenovo/Desktop/certi3.jpg')\n",
    "img=cv2.cvtColor(img,cv2.COLOR_BGR2RGB)\n",
    "\n",
    "while True:\n",
    "    cv2.imshow('certi_generator',img)\n",
    "    if cnt==4:\n",
    "        break\n",
    "    if cv2.waitKey(10) & 0xFF ==27:\n",
    "        break\n",
    "cv2.destroyAllWindows()\n",
    "    \n",
    "for i in range(1,w_sheet.nrows):\n",
    "    img=cv2.imread('C:/Users/lenovo/Desktop/certi3.jpg')\n",
    "    img=cv2.cvtColor(img,cv2.COLOR_BGR2RGB)\n",
    "    \n",
    "    txt=w_sheet.cell(i,0).value\n",
    "    font= cv2.FONT_HERSHEY_SIMPLEX\n",
    "    cv2.putText(img,txt,(lst_x[0],lst_y[0]),font,0.5,(255,0,0),1,cv2.LINE_AA)\n",
    "    cv2.putText(img,event,(lst_x[1],lst_y[1]),font,0.5,(255,0,0),1,cv2.LINE_AA)\n",
    "    cv2.putText(img,date,(lst_x[2],lst_y[2]),font,0.5,(255,0,0),1,cv2.LINE_AA)\n",
    "    cv2.putText(img,place,(lst_x[3],lst_y[3]),font,0.5,(255,0,0),1,cv2.LINE_AA)\n",
    "    \n",
    "    cv2.imwrite('visio'+str(i)+'.jpg',img)\n"
   ]
  },
  {
   "cell_type": "code",
   "execution_count": null,
   "metadata": {},
   "outputs": [],
   "source": []
  }
 ],
 "metadata": {
  "kernelspec": {
   "display_name": "Python 3",
   "language": "python",
   "name": "python3"
  },
  "language_info": {
   "codemirror_mode": {
    "name": "ipython",
    "version": 3
   },
   "file_extension": ".py",
   "mimetype": "text/x-python",
   "name": "python",
   "nbconvert_exporter": "python",
   "pygments_lexer": "ipython3",
   "version": "3.6.9"
  }
 },
 "nbformat": 4,
 "nbformat_minor": 4
}
